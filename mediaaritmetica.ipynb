{
  "nbformat": 4,
  "nbformat_minor": 0,
  "metadata": {
    "colab": {
      "provenance": [],
      "authorship_tag": "ABX9TyPuxfpGIB50CjXIk/yGbFXN",
      "include_colab_link": true
    },
    "kernelspec": {
      "name": "python3",
      "display_name": "Python 3"
    },
    "language_info": {
      "name": "python"
    }
  },
  "cells": [
    {
      "cell_type": "markdown",
      "metadata": {
        "id": "view-in-github",
        "colab_type": "text"
      },
      "source": [
        "<a href=\"https://colab.research.google.com/github/JosueGiithub/somaint.py/blob/main/mediaaritmetica.ipynb\" target=\"_parent\"><img src=\"https://colab.research.google.com/assets/colab-badge.svg\" alt=\"Open In Colab\"/></a>"
      ]
    },
    {
      "cell_type": "code",
      "execution_count": null,
      "metadata": {
        "id": "4qaWm-EXrmuH"
      },
      "outputs": [],
      "source": [
        "av1 = float(input(\"A primeira nota é\" ))\n",
        "av2 = float(input(\"A segunda nota é\" ))\n",
        "av3 = float(input(\"A terceira nota é\" ))\n",
        "media = (av1 + av2 + av3) /3\n",
        "print(\"Sua nota é \", media)"
      ]
    }
  ]
}